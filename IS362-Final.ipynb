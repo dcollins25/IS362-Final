{
 "cells": [
  {
   "cell_type": "code",
   "execution_count": 5,
   "id": "44b32375",
   "metadata": {},
   "outputs": [],
   "source": [
    "# IS362-Final - Dan Collins - An Analysis of the Top 100 Books Sold on Amazon"
   ]
  },
  {
   "cell_type": "code",
   "execution_count": 9,
   "id": "57ffcf3c",
   "metadata": {},
   "outputs": [],
   "source": [
    "# For this project, I used the dataset containing Amazon's Top 100 Bestselling Books from https://www.kaggle.com/datasets\n",
    "# This includes information on the top 100 books sold in the last year, as well as an analysis of nearly 900 Amazon customers\n",
    "# and their reviews of this list of books and others.\n",
    "# This dataset contains 2 files: 1) 'customer_reviews.csv' and 'Top-100_Trending_Books.csv'"
   ]
  },
  {
   "cell_type": "code",
   "execution_count": 7,
   "id": "5aecd865",
   "metadata": {},
   "outputs": [],
   "source": [
    "# The program uses a SQLite database, pandas, numpy, matplotlibg for graphs, scipy for correlation analysis"
   ]
  },
  {
   "cell_type": "code",
   "execution_count": 3,
   "id": "31a92004",
   "metadata": {},
   "outputs": [],
   "source": [
    "import sqlite3\n",
    "import pandas as pd\n",
    "import numpy as np\n",
    "import matplotlib.pyplot as plt\n",
    "from scipy.stats import pearsonr\n",
    "import os"
   ]
  },
  {
   "cell_type": "code",
   "execution_count": 1,
   "id": "acca3e42",
   "metadata": {},
   "outputs": [],
   "source": [
    "new_directory = r'C:\\Users\\dmcol\\Documents\\GitWork\\IS362-Final'"
   ]
  },
  {
   "cell_type": "code",
   "execution_count": 4,
   "id": "7c5d9cc3",
   "metadata": {},
   "outputs": [],
   "source": [
    "os.chdir(new_directory)"
   ]
  },
  {
   "cell_type": "code",
   "execution_count": 8,
   "id": "08837dac",
   "metadata": {},
   "outputs": [],
   "source": [
    "# After creating a SQLite database called 'amazonbooks.db', the program starts by connecting to it\n",
    "conn = sqlite3.connect('amazonbooks.db')"
   ]
  },
  {
   "cell_type": "code",
   "execution_count": 12,
   "id": "27f6f269",
   "metadata": {},
   "outputs": [
    {
     "name": "stdout",
     "output_type": "stream",
     "text": [
      "Top 10 Reviewers (Excluding 'Amazon Customer' and 'Kindle Customer') Who Reviewed the Most Books from Top 100 Trending List:\n",
      "Reviewer\t\tNumber of Books Reviewed\n",
      "---------------------------------------------\n",
      "Michelle\t\t4\n",
      "Gina\t\t3\n",
      "Ashley\t\t3\n",
      "switterbug/Betsey Van Horn\t\t2\n",
      "amy larrow\t\t2\n",
      "Yami's Bookshelf\t\t2\n",
      "Ryan Harris\t\t2\n",
      "RC\t\t2\n",
      "N c\t\t2\n",
      "Melynda Wangsness\t\t2\n"
     ]
    }
   ],
   "source": [
    "# Here is a query of the database to find the top 10 reviewers from the CustomerReviews table to search the TopTrendingBooks table \n",
    "# to find who, from the list of reviewers, reviewed the most from the top 100 list of books\n",
    "top_10_reviewers_query = '''\n",
    "    SELECT CR.reviewer, COUNT(DISTINCT TB.book_title) AS num_reviews\n",
    "    FROM CustomerReviews CR\n",
    "    INNER JOIN TopTrendingBooks TB ON CR.book_name = TB.book_title\n",
    "    WHERE CR.reviewer NOT IN ('Amazon Customer', 'Kindle Customer')\n",
    "    GROUP BY CR.reviewer\n",
    "    ORDER BY num_reviews DESC\n",
    "    LIMIT 10\n",
    "'''\n",
    "cursor = conn.execute(top_10_reviewers_query)\n",
    "top_10_results = cursor.fetchall()\n",
    "\n",
    "# Print the top 10 reviewers and the number of books they reviewed\n",
    "if top_10_results:\n",
    "    print(\"Top 10 Reviewers (Excluding 'Amazon Customer' and 'Kindle Customer') Who Reviewed the Most Books from Top 100 Trending List:\")\n",
    "    print(\"Reviewer\\t\\tNumber of Books Reviewed\")\n",
    "    print(\"---------------------------------------------\")\n",
    "    for reviewer, num_reviews in top_10_results:\n",
    "        print(f\"{reviewer}\\t\\t{num_reviews}\")\n",
    "else:\n",
    "    print(\"No results found for the top 10 reviewers.\")"
   ]
  },
  {
   "cell_type": "code",
   "execution_count": 14,
   "id": "0588f518",
   "metadata": {},
   "outputs": [
    {
     "name": "stdout",
     "output_type": "stream",
     "text": [
      "\n",
      "Ratings for the Top Reviewer (Excluding 'Amazon Customer' and 'Kindle Customer'):\n",
      "Reviewer\tBook Title\t\tRating\n",
      "---------------------------------------------\n",
      "Michelle\tHundred Years' War on Palestine\t\t2\n",
      "Michelle\tI'm Dead, Now What?: Important Information About My Belongings, Business Affairs, and Wishes\t\t5\n",
      "Michelle\tLittle Blue Truck's Christmas: A Christmas Holiday Book for Kids\t\t5\n",
      "Michelle\tThe Leaf Thief: (The Perfect Fall Book for Children and Toddlers)\t\t5\n"
     ]
    }
   ],
   "source": [
    "# SQL query to fetch the ratings for the top reviewer\n",
    "top_reviewer_query = '''\n",
    "    SELECT CR.reviewer, TB.book_title, CR.reviewer_rating\n",
    "    FROM CustomerReviews CR\n",
    "    INNER JOIN TopTrendingBooks TB ON CR.book_name = TB.book_title\n",
    "    WHERE CR.reviewer NOT IN ('Amazon Customer', 'Kindle Customer')\n",
    "    GROUP BY CR.reviewer, TB.book_title\n",
    "    HAVING CR.reviewer = (\n",
    "        SELECT CR_inner.reviewer\n",
    "        FROM CustomerReviews CR_inner\n",
    "        INNER JOIN TopTrendingBooks TB_inner ON CR_inner.book_name = TB_inner.book_title\n",
    "        WHERE CR_inner.reviewer NOT IN ('Amazon Customer', 'Kindle Customer')\n",
    "        GROUP BY CR_inner.reviewer\n",
    "        ORDER BY COUNT(DISTINCT TB_inner.book_title) DESC\n",
    "        LIMIT 1\n",
    "    )\n",
    "'''\n",
    "cursor = conn.execute(top_reviewer_query)\n",
    "top_reviewer_results = cursor.fetchall()\n",
    "\n",
    "# Display ratings for the top reviewer\n",
    "if top_reviewer_results:\n",
    "    print(\"\\nRatings for the Top Reviewer (Excluding 'Amazon Customer' and 'Kindle Customer'):\")\n",
    "    print(\"Reviewer\\tBook Title\\t\\tRating\")\n",
    "    print(\"---------------------------------------------\")\n",
    "    for reviewer, book_title, reviewer_rating in top_reviewer_results:\n",
    "        print(f\"{reviewer}\\t{book_title}\\t\\t{reviewer_rating}\")\n",
    "else:\n",
    "    print(\"No results found for the top reviewer.\")"
   ]
  },
  {
   "cell_type": "code",
   "execution_count": 15,
   "id": "4270b3ae",
   "metadata": {},
   "outputs": [
    {
     "name": "stdout",
     "output_type": "stream",
     "text": [
      "\n",
      "Number of Books from Top 100 Trending Books Reviewed by Unverified Customers: 0\n"
     ]
    }
   ],
   "source": [
    "# I was curious to get a count of the # of books reviewed by unverified customers from the top 100 books\n",
    "unverified_books_query = '''\n",
    "    SELECT COUNT(DISTINCT TB.book_title) AS num_unverified_books\n",
    "    FROM CustomerReviews CR\n",
    "    INNER JOIN TopTrendingBooks TB ON CR.book_name = TB.book_title\n",
    "    WHERE CR.is_verified = 'FALSE'\n",
    "'''\n",
    "\n",
    "cursor = conn.execute(unverified_books_query)\n",
    "unverified_books_result = cursor.fetchone()\n",
    "\n",
    "# Display the count of books reviewed by unverified customers from the top 100 list\n",
    "if unverified_books_result:\n",
    "    num_unverified_books = unverified_books_result[0]\n",
    "    print(f\"\\nNumber of Books from Top 100 Trending Books Reviewed by Unverified Customers: {num_unverified_books}\")\n",
    "else:\n",
    "    print(\"No results found for books reviewed by unverified customers.\")"
   ]
  },
  {
   "cell_type": "code",
   "execution_count": 22,
   "id": "79e1556a",
   "metadata": {},
   "outputs": [
    {
     "name": "stdout",
     "output_type": "stream",
     "text": [
      "\n",
      "Out of 819 reviewers,\n",
      "780 have reviewed the books in the Top-100 Trending Books list\n"
     ]
    }
   ],
   "source": [
    "# This query is to get a count of all distinct reviewers in the CustomerReviews table\n",
    "all_reviewers_query = '''\n",
    "    SELECT COUNT(DISTINCT reviewer) AS total_reviewers\n",
    "    FROM CustomerReviews\n",
    "'''\n",
    "cursor = conn.execute(all_reviewers_query)\n",
    "all_reviewers_result = cursor.fetchone()\n",
    "\n",
    "# Display the count of all reviewers\n",
    "if all_reviewers_result:\n",
    "    total_reviewers = all_reviewers_result[0]\n",
    "    print(f\"\\nOut of {total_reviewers} reviewers,\")\n",
    "    \n",
    "    # SQL query to count distinct reviewers from CustomerReviews who reviewed books from TopTrendingBooks\n",
    "    reviewers_with_top_books_query = '''\n",
    "        SELECT COUNT(DISTINCT CR.reviewer) AS num_reviewers_with_top_books\n",
    "        FROM CustomerReviews CR\n",
    "        WHERE CR.book_name IN (SELECT book_title FROM TopTrendingBooks)\n",
    "    '''\n",
    "    \n",
    "    cursor = conn.execute(reviewers_with_top_books_query)\n",
    "    reviewers_with_top_books_result = cursor.fetchone()    \n",
    "    \n",
    "    # Display the count of reviewers who reviewed books from TopTrendingBooks\n",
    "    if reviewers_with_top_books_result:\n",
    "        num_reviewers_with_top_books = reviewers_with_top_books_result[0]\n",
    "        print(f\"{num_reviewers_with_top_books} have reviewed the books in the Top-100 Trending Books list\")\n",
    "    else:\n",
    "        print(\"No results found for reviewers who reviewed books from TopTrendingBooks.\")\n",
    "else:\n",
    "    print(\"No results found for total reviewers.\")"
   ]
  },
  {
   "cell_type": "code",
   "execution_count": 24,
   "id": "357aac87",
   "metadata": {},
   "outputs": [
    {
     "name": "stdout",
     "output_type": "stream",
     "text": [
      "\n",
      "Correlation between Book Rating and Position in Top 100 List: 0.12\n"
     ]
    }
   ],
   "source": [
    "# Below is to work out the correlation from the dataset files to answer a few questions ...\n",
    "\n",
    "# Book Rating and Position in Top 100 List\n",
    "#  What is the correlation between overall rating and position of a book in the top 100 list?\n",
    "trending_books_df = pd.read_csv('Top-100_Trending_Books.csv')\n",
    "\n",
    "rating_position_corr = trending_books_df['rating'].corr(trending_books_df['Rank'])\n",
    "print(f\"\\nCorrelation between Book Rating and Position in Top 100 List: {rating_position_corr:.2f}\")"
   ]
  },
  {
   "cell_type": "code",
   "execution_count": 25,
   "id": "ef93693d",
   "metadata": {},
   "outputs": [
    {
     "name": "stdout",
     "output_type": "stream",
     "text": [
      "Correlation between Book Cost and Position in Top 100 List: -0.06\n"
     ]
    }
   ],
   "source": [
    "# Book Cost and Postion in Top 100 List\n",
    "# What is the correlation between Book Cost and the Position in the Top 100 List?\n",
    "cost_position_corr = trending_books_df['book_price'].corr(trending_books_df['Rank'])\n",
    "print(f\"Correlation between Book Cost and Position in Top 100 List: {cost_position_corr:.2f}\")"
   ]
  },
  {
   "cell_type": "code",
   "execution_count": 28,
   "id": "692b1b0f",
   "metadata": {},
   "outputs": [
    {
     "name": "stdout",
     "output_type": "stream",
     "text": [
      "\n",
      "Correlation between Reviewer Rating and Length of Review: -0.16\n"
     ]
    }
   ],
   "source": [
    "# Reviewer Rating and Length of Review\n",
    "customer_reviews_df = pd.read_csv('customer_reviews.csv')\n",
    "\n",
    "# Select the reviews\n",
    "top_books_reviews = customer_reviews_df[customer_reviews_df['book_name'].isin(trending_books_df['book_title'])].copy()\n",
    "\n",
    "# Calculating length of each review\n",
    "top_books_reviews['review_length'] = top_books_reviews['review_description'].astype(str).apply(len)\n",
    "\n",
    "# What is the correlation between a reviewer's rating and the length of their review?\n",
    "rating_length_corr, _ = pearsonr(top_books_reviews['reviewer_rating'], top_books_reviews['review_length'])\n",
    "print(f\"\\nCorrelation between Reviewer Rating and Length of Review: {rating_length_corr:.2f}\")"
   ]
  },
  {
   "cell_type": "code",
   "execution_count": 29,
   "id": "6ebce38a",
   "metadata": {},
   "outputs": [
    {
     "data": {
      "text/plain": [
       "Text(0, 0.5, 'Position in Top 100 List')"
      ]
     },
     "execution_count": 29,
     "metadata": {},
     "output_type": "execute_result"
    },
    {
     "data": {
      "image/png": "[encoded data removed]",
      "text/plain": [
       "<Figure size 1000x600 with 1 Axes>"
      ]
     },
     "metadata": {},
     "output_type": "display_data"
    }
   ],
   "source": [
    "# Now to bring all of the correlations into graphs to better understand the data ...\n",
    "\n",
    "plt.figure(figsize=(10, 6))\n",
    "\n",
    "# Scatter plot for Book Rating and Position in Top 100 List\n",
    "plt.subplot(2, 2, 1)\n",
    "plt.scatter(trending_books_df['rating'], trending_books_df['Rank'])\n",
    "plt.title('Book Rating vs Position in Top 100 List')\n",
    "plt.xlabel('Book Rating')\n",
    "plt.ylabel('Position in Top 100 List')"
   ]
  },
  {
   "cell_type": "code",
   "execution_count": 30,
   "id": "a57c4d36",
   "metadata": {},
   "outputs": [
    {
     "data": {
      "text/plain": [
       "Text(0, 0.5, 'Position in Top 100 List')"
      ]
     },
     "execution_count": 30,
     "metadata": {},
     "output_type": "execute_result"
    },
    {
     "data": {
      "image/png": "[encoded data removed]",
      "text/plain": [
       "<Figure size 640x480 with 1 Axes>"
      ]
     },
     "metadata": {},
     "output_type": "display_data"
    }
   ],
   "source": [
    "# Scatter plot for Book Cost and Position in Top 100 List\n",
    "plt.subplot(2, 2, 2)\n",
    "plt.scatter(trending_books_df['book_price'], trending_books_df['Rank'])\n",
    "plt.title('Book Cost vs Position in Top 100 List')\n",
    "plt.xlabel('Book Cost')\n",
    "plt.ylabel('Position in Top 100 List')"
   ]
  },
  {
   "cell_type": "code",
   "execution_count": 31,
   "id": "3dea877a",
   "metadata": {},
   "outputs": [
    {
     "data": {
      "text/plain": [
       "Text(0, 0.5, 'Length of Review')"
      ]
     },
     "execution_count": 31,
     "metadata": {},
     "output_type": "execute_result"
    },
    {
     "data": {
      "image/png": "[encoded data removed]",
      "text/plain": [
       "<Figure size 640x480 with 1 Axes>"
      ]
     },
     "metadata": {},
     "output_type": "display_data"
    }
   ],
   "source": [
    "# Scatter plot for Reviewer Rating and Length of Review\n",
    "plt.subplot(2, 2, 3)\n",
    "plt.scatter(top_books_reviews['reviewer_rating'], top_books_reviews['review_length'])\n",
    "plt.title('Reviewer Rating vs Length of Review')\n",
    "plt.xlabel('Reviewer Rating')\n",
    "plt.ylabel('Length of Review')"
   ]
  },
  {
   "cell_type": "code",
   "execution_count": 32,
   "id": "d6e1adaa",
   "metadata": {},
   "outputs": [
    {
     "data": {
      "text/plain": [
       "<Figure size 640x480 with 0 Axes>"
      ]
     },
     "metadata": {},
     "output_type": "display_data"
    }
   ],
   "source": [
    "plt.tight_layout()\n",
    "plt.show()"
   ]
  },
  {
   "cell_type": "code",
   "execution_count": 33,
   "id": "178e6fc1",
   "metadata": {},
   "outputs": [],
   "source": [
    "# Close the connection to the SQLite database\n",
    "conn.close()"
   ]
  }
 ],
 "metadata": {
  "kernelspec": {
   "display_name": "Python 3 (ipykernel)",
   "language": "python",
   "name": "python3"
  },
  "language_info": {
   "codemirror_mode": {
    "name": "ipython",
    "version": 3
   },
   "file_extension": ".py",
   "mimetype": "text/x-python",
   "name": "python",
   "nbconvert_exporter": "python",
   "pygments_lexer": "ipython3",
   "version": "3.9.13"
  }
 },
 "nbformat": 4,
 "nbformat_minor": 5
}
